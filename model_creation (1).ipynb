{
  "nbformat": 4,
  "nbformat_minor": 0,
  "metadata": {
    "colab": {
      "provenance": []
    },
    "kernelspec": {
      "name": "python3",
      "display_name": "Python 3"
    },
    "language_info": {
      "name": "python"
    }
  },
  "cells": [
    {
      "cell_type": "code",
      "execution_count": 1,
      "metadata": {
        "colab": {
          "base_uri": "https://localhost:8080/"
        },
        "id": "T5M_plP6dRr8",
        "outputId": "97101856-0442-4049-8f9e-406f0b7e1be5"
      },
      "outputs": [
        {
          "output_type": "stream",
          "name": "stdout",
          "text": [
            "/content\n"
          ]
        }
      ],
      "source": [
        "!pwd"
      ]
    },
    {
      "cell_type": "code",
      "source": [
        "!mkdir emotion_detection_project"
      ],
      "metadata": {
        "id": "jNCxTSsidbiM"
      },
      "execution_count": 2,
      "outputs": []
    },
    {
      "cell_type": "code",
      "source": [
        "cd emotion_detection_project"
      ],
      "metadata": {
        "colab": {
          "base_uri": "https://localhost:8080/"
        },
        "id": "BdFauodCdbqq",
        "outputId": "b91d2b0e-ef37-4f05-da62-e8813750e678"
      },
      "execution_count": 3,
      "outputs": [
        {
          "output_type": "stream",
          "name": "stdout",
          "text": [
            "/content/emotion_detection_project\n"
          ]
        }
      ]
    },
    {
      "cell_type": "code",
      "source": [
        "from google.colab import files\n",
        "upload = files.upload()"
      ],
      "metadata": {
        "colab": {
          "base_uri": "https://localhost:8080/",
          "height": 73
        },
        "id": "-toJ_ztodbwT",
        "outputId": "d9e3e6b7-c32c-4505-84f3-6556c14fc93e"
      },
      "execution_count": 4,
      "outputs": [
        {
          "output_type": "display_data",
          "data": {
            "text/plain": [
              "<IPython.core.display.HTML object>"
            ],
            "text/html": [
              "\n",
              "     <input type=\"file\" id=\"files-5768fbb6-1f79-4cc4-bccc-e7fb326c1e74\" name=\"files[]\" multiple disabled\n",
              "        style=\"border:none\" />\n",
              "     <output id=\"result-5768fbb6-1f79-4cc4-bccc-e7fb326c1e74\">\n",
              "      Upload widget is only available when the cell has been executed in the\n",
              "      current browser session. Please rerun this cell to enable.\n",
              "      </output>\n",
              "      <script>// Copyright 2017 Google LLC\n",
              "//\n",
              "// Licensed under the Apache License, Version 2.0 (the \"License\");\n",
              "// you may not use this file except in compliance with the License.\n",
              "// You may obtain a copy of the License at\n",
              "//\n",
              "//      http://www.apache.org/licenses/LICENSE-2.0\n",
              "//\n",
              "// Unless required by applicable law or agreed to in writing, software\n",
              "// distributed under the License is distributed on an \"AS IS\" BASIS,\n",
              "// WITHOUT WARRANTIES OR CONDITIONS OF ANY KIND, either express or implied.\n",
              "// See the License for the specific language governing permissions and\n",
              "// limitations under the License.\n",
              "\n",
              "/**\n",
              " * @fileoverview Helpers for google.colab Python module.\n",
              " */\n",
              "(function(scope) {\n",
              "function span(text, styleAttributes = {}) {\n",
              "  const element = document.createElement('span');\n",
              "  element.textContent = text;\n",
              "  for (const key of Object.keys(styleAttributes)) {\n",
              "    element.style[key] = styleAttributes[key];\n",
              "  }\n",
              "  return element;\n",
              "}\n",
              "\n",
              "// Max number of bytes which will be uploaded at a time.\n",
              "const MAX_PAYLOAD_SIZE = 100 * 1024;\n",
              "\n",
              "function _uploadFiles(inputId, outputId) {\n",
              "  const steps = uploadFilesStep(inputId, outputId);\n",
              "  const outputElement = document.getElementById(outputId);\n",
              "  // Cache steps on the outputElement to make it available for the next call\n",
              "  // to uploadFilesContinue from Python.\n",
              "  outputElement.steps = steps;\n",
              "\n",
              "  return _uploadFilesContinue(outputId);\n",
              "}\n",
              "\n",
              "// This is roughly an async generator (not supported in the browser yet),\n",
              "// where there are multiple asynchronous steps and the Python side is going\n",
              "// to poll for completion of each step.\n",
              "// This uses a Promise to block the python side on completion of each step,\n",
              "// then passes the result of the previous step as the input to the next step.\n",
              "function _uploadFilesContinue(outputId) {\n",
              "  const outputElement = document.getElementById(outputId);\n",
              "  const steps = outputElement.steps;\n",
              "\n",
              "  const next = steps.next(outputElement.lastPromiseValue);\n",
              "  return Promise.resolve(next.value.promise).then((value) => {\n",
              "    // Cache the last promise value to make it available to the next\n",
              "    // step of the generator.\n",
              "    outputElement.lastPromiseValue = value;\n",
              "    return next.value.response;\n",
              "  });\n",
              "}\n",
              "\n",
              "/**\n",
              " * Generator function which is called between each async step of the upload\n",
              " * process.\n",
              " * @param {string} inputId Element ID of the input file picker element.\n",
              " * @param {string} outputId Element ID of the output display.\n",
              " * @return {!Iterable<!Object>} Iterable of next steps.\n",
              " */\n",
              "function* uploadFilesStep(inputId, outputId) {\n",
              "  const inputElement = document.getElementById(inputId);\n",
              "  inputElement.disabled = false;\n",
              "\n",
              "  const outputElement = document.getElementById(outputId);\n",
              "  outputElement.innerHTML = '';\n",
              "\n",
              "  const pickedPromise = new Promise((resolve) => {\n",
              "    inputElement.addEventListener('change', (e) => {\n",
              "      resolve(e.target.files);\n",
              "    });\n",
              "  });\n",
              "\n",
              "  const cancel = document.createElement('button');\n",
              "  inputElement.parentElement.appendChild(cancel);\n",
              "  cancel.textContent = 'Cancel upload';\n",
              "  const cancelPromise = new Promise((resolve) => {\n",
              "    cancel.onclick = () => {\n",
              "      resolve(null);\n",
              "    };\n",
              "  });\n",
              "\n",
              "  // Wait for the user to pick the files.\n",
              "  const files = yield {\n",
              "    promise: Promise.race([pickedPromise, cancelPromise]),\n",
              "    response: {\n",
              "      action: 'starting',\n",
              "    }\n",
              "  };\n",
              "\n",
              "  cancel.remove();\n",
              "\n",
              "  // Disable the input element since further picks are not allowed.\n",
              "  inputElement.disabled = true;\n",
              "\n",
              "  if (!files) {\n",
              "    return {\n",
              "      response: {\n",
              "        action: 'complete',\n",
              "      }\n",
              "    };\n",
              "  }\n",
              "\n",
              "  for (const file of files) {\n",
              "    const li = document.createElement('li');\n",
              "    li.append(span(file.name, {fontWeight: 'bold'}));\n",
              "    li.append(span(\n",
              "        `(${file.type || 'n/a'}) - ${file.size} bytes, ` +\n",
              "        `last modified: ${\n",
              "            file.lastModifiedDate ? file.lastModifiedDate.toLocaleDateString() :\n",
              "                                    'n/a'} - `));\n",
              "    const percent = span('0% done');\n",
              "    li.appendChild(percent);\n",
              "\n",
              "    outputElement.appendChild(li);\n",
              "\n",
              "    const fileDataPromise = new Promise((resolve) => {\n",
              "      const reader = new FileReader();\n",
              "      reader.onload = (e) => {\n",
              "        resolve(e.target.result);\n",
              "      };\n",
              "      reader.readAsArrayBuffer(file);\n",
              "    });\n",
              "    // Wait for the data to be ready.\n",
              "    let fileData = yield {\n",
              "      promise: fileDataPromise,\n",
              "      response: {\n",
              "        action: 'continue',\n",
              "      }\n",
              "    };\n",
              "\n",
              "    // Use a chunked sending to avoid message size limits. See b/62115660.\n",
              "    let position = 0;\n",
              "    do {\n",
              "      const length = Math.min(fileData.byteLength - position, MAX_PAYLOAD_SIZE);\n",
              "      const chunk = new Uint8Array(fileData, position, length);\n",
              "      position += length;\n",
              "\n",
              "      const base64 = btoa(String.fromCharCode.apply(null, chunk));\n",
              "      yield {\n",
              "        response: {\n",
              "          action: 'append',\n",
              "          file: file.name,\n",
              "          data: base64,\n",
              "        },\n",
              "      };\n",
              "\n",
              "      let percentDone = fileData.byteLength === 0 ?\n",
              "          100 :\n",
              "          Math.round((position / fileData.byteLength) * 100);\n",
              "      percent.textContent = `${percentDone}% done`;\n",
              "\n",
              "    } while (position < fileData.byteLength);\n",
              "  }\n",
              "\n",
              "  // All done.\n",
              "  yield {\n",
              "    response: {\n",
              "      action: 'complete',\n",
              "    }\n",
              "  };\n",
              "}\n",
              "\n",
              "scope.google = scope.google || {};\n",
              "scope.google.colab = scope.google.colab || {};\n",
              "scope.google.colab._files = {\n",
              "  _uploadFiles,\n",
              "  _uploadFilesContinue,\n",
              "};\n",
              "})(self);\n",
              "</script> "
            ]
          },
          "metadata": {}
        },
        {
          "output_type": "stream",
          "name": "stdout",
          "text": [
            "Saving archive (1).zip to archive (1).zip\n"
          ]
        }
      ]
    },
    {
      "cell_type": "code",
      "source": [],
      "metadata": {
        "id": "1ZUcJGA0mLoN"
      },
      "execution_count": null,
      "outputs": []
    },
    {
      "cell_type": "code",
      "source": [
        "import zipfile\n",
        "import io\n",
        "\n",
        "# Extract the contents of the uploaded zip file\n",
        "for fn in upload.keys():\n",
        "    with zipfile.ZipFile(io.BytesIO(upload[fn]), 'r') as zip_ref:\n",
        "        zip_ref.extractall(\"/content/emotion_detection_project/\")  # Change the directory as needed\n"
      ],
      "metadata": {
        "id": "bauNsAO3db18"
      },
      "execution_count": 5,
      "outputs": []
    },
    {
      "cell_type": "code",
      "source": [
        "##import os\n",
        "\n",
        "# Specify the directory path\n",
        "directory_path = '/content/drive/My Drive/test/train'  # Change this to your directory path\n",
        "\n",
        "# List all files and directories in the specified path\n",
        "contents = os.listdir(directory_path)\n",
        "\n",
        "# Print the contents\n",
        "print(contents)\n"
      ],
      "metadata": {
        "colab": {
          "base_uri": "https://localhost:8080/"
        },
        "id": "QOCPkF3gkSgD",
        "outputId": "fa22f088-e729-41f4-9453-f424332b5e0d"
      },
      "execution_count": null,
      "outputs": [
        {
          "output_type": "stream",
          "name": "stdout",
          "text": [
            "[]\n"
          ]
        }
      ]
    },
    {
      "cell_type": "code",
      "source": [
        "# #Specify the directory path\n",
        "directory_path = '/content/drive/My Drive/test/train'  # Change this to your directory path\n",
        "\n",
        "# Use the ls command to list the contents of the directory\n",
        "!ls \"{directory_path}\"\n"
      ],
      "metadata": {
        "id": "3TD_laXzkYpa"
      },
      "execution_count": null,
      "outputs": []
    },
    {
      "cell_type": "code",
      "source": [
        "##from google.colab import drive\n",
        "##import shutil\n",
        "\n",
        "# Mount Google Drive\n",
        "##drive.mount('/content/drive')\n",
        "\n",
        "# Define source and destination paths\n",
        "##source_folder_path = '/content/emotion_detection_project'  # Change this to your source folder path\n",
        "##destination_folder_path = '/content/drive/My Drive/test/train'  # Change this to your destination folder path in Google Drive\n",
        "\n",
        "# Copy folder recursively\n",
        "##shutil.copytree(source_folder_path, destination_folder_path)\n",
        "\n",
        "##print(\"Folder copied successfully to Google Drive!\")\n"
      ],
      "metadata": {
        "id": "gyg2hebeh7Pe"
      },
      "execution_count": null,
      "outputs": []
    },
    {
      "cell_type": "code",
      "source": [
        "from google.colab import drive\n",
        "import os\n",
        "\n",
        "# Mount Google Drive\n",
        "drive.mount('/content/drive')\n",
        "\n",
        "# Define the path of the folder to check\n",
        "folder_path = '/content/drive/My Drive/test/train'  # Change this to the path of the folder you want to check\n",
        "\n",
        "# Check if the folder exists\n",
        "if os.path.exists(folder_path):\n",
        "    print(\"Folder exists in Google Drive.\")\n",
        "else:\n",
        "    print(\"Folder does not exist in Google Drive.\")\n"
      ],
      "metadata": {
        "colab": {
          "base_uri": "https://localhost:8080/"
        },
        "id": "Pw-fpbq9knVC",
        "outputId": "18f68f91-50c5-4e0d-a3a2-f6d0a2281972"
      },
      "execution_count": null,
      "outputs": [
        {
          "output_type": "stream",
          "name": "stdout",
          "text": [
            "Drive already mounted at /content/drive; to attempt to forcibly remount, call drive.mount(\"/content/drive\", force_remount=True).\n",
            "Folder exists in Google Drive.\n"
          ]
        }
      ]
    },
    {
      "cell_type": "code",
      "source": [
        "import matplotlib.pyplot as plt\n",
        "import os\n",
        "import random\n",
        "from glob import glob\n",
        "import cv2\n",
        "%matplotlib inline"
      ],
      "metadata": {
        "id": "KctARWqddb6s"
      },
      "execution_count": 6,
      "outputs": []
    },
    {
      "cell_type": "code",
      "source": [
        "from tensorflow.keras.preprocessing.image import ImageDataGenerator\n",
        "from tensorflow.keras.layers import Dense, Input, Dropout, Flatten, Conv2D\n",
        "from tensorflow.keras.layers import BatchNormalization, Activation, MaxPooling2D\n",
        "from tensorflow.keras.models import Model, Sequential\n",
        "from tensorflow.keras.optimizers import Adam\n",
        "from tensorflow.keras.callbacks import ModelCheckpoint, ReduceLROnPlateau\n",
        "\n",
        "from tensorflow.keras.utils import plot_model\n",
        "\n",
        "from IPython.display import SVG,Image\n",
        "import tensorflow as tf\n",
        "print(\"Tensorflow version:\", tf.__version__)\n",
        "\n"
      ],
      "metadata": {
        "colab": {
          "base_uri": "https://localhost:8080/"
        },
        "id": "iYRkX-jJdb_V",
        "outputId": "3295a1b0-f595-4d0a-81b6-bb90eb68f72a"
      },
      "execution_count": 7,
      "outputs": [
        {
          "output_type": "stream",
          "name": "stdout",
          "text": [
            "Tensorflow version: 2.15.0\n"
          ]
        }
      ]
    },
    {
      "cell_type": "code",
      "source": [
        "# Exploring Dataset"
      ],
      "metadata": {
        "id": "G0BGFWGbdcEB"
      },
      "execution_count": null,
      "outputs": []
    },
    {
      "cell_type": "code",
      "source": [
        "import cv2\n",
        "import matplotlib.pyplot as plt\n",
        "import random\n",
        "from glob import glob\n",
        "\n",
        "# Make sure to provide the correct path to your image files\n",
        "images = glob(\"train/**/**\")\n",
        "\n",
        "for i in range(9):\n",
        "    image_path = random.choice(images)\n",
        "    img = cv2.imread(image_path)\n",
        "\n",
        "    # Check if image is loaded successfully\n",
        "    if img is None:\n",
        "        print(f\"Failed to load image: {image_path}\")\n",
        "        continue\n",
        "\n",
        "    plt.figure(figsize=(12,12))\n",
        "    plt.subplot(331+i)\n",
        "    plt.imshow(cv2.cvtColor(img, cv2.COLOR_BGR2RGB))  # Convert BGR to RGB for correct display\n",
        "    plt.axis('off')\n",
        "\n",
        "plt.show()\n"
      ],
      "metadata": {
        "colab": {
          "base_uri": "https://localhost:8080/",
          "height": 1000
        },
        "id": "hvSENWlPeF5o",
        "outputId": "d93e6a75-86b1-4c95-ee54-064860a4a224"
      },
      "execution_count": 8,
      "outputs": [
        {
          "output_type": "display_data",
          "data": {
            "text/plain": [
              "<Figure size 1200x1200 with 1 Axes>"
            ],
            "image/png": "[encoded data removed]"
          },
          "metadata": {}
        },
        {
          "output_type": "display_data",
          "data": {
            "text/plain": [
              "<Figure size 1200x1200 with 1 Axes>"
            ],
            "image/png": "[encoded data removed]"
          },
          "metadata": {}
        },
        {
          "output_type": "display_data",
          "data": {
            "text/plain": [
              "<Figure size 1200x1200 with 1 Axes>"
            ],
            "image/png": "[encoded data removed]"
          },
          "metadata": {}
        },
        {
          "output_type": "display_data",
          "data": {
            "text/plain": [
              "<Figure size 1200x1200 with 1 Axes>"
            ],
            "image/png": "[encoded data removed]"
          },
          "metadata": {}
        },
        {
          "output_type": "display_data",
          "data": {
            "text/plain": [
              "<Figure size 1200x1200 with 1 Axes>"
            ],
            "image/png": "[encoded data removed]"
          },
          "metadata": {}
        },
        {
          "output_type": "display_data",
          "data": {
            "text/plain": [
              "<Figure size 1200x1200 with 1 Axes>"
            ],
            "image/png": "[encoded data removed]"
          },
          "metadata": {}
        },
        {
          "output_type": "display_data",
          "data": {
            "text/plain": [
              "<Figure size 1200x1200 with 1 Axes>"
            ],
            "image/png": "[encoded data removed]"
          },
          "metadata": {}
        },
        {
          "output_type": "display_data",
          "data": {
            "text/plain": [
              "<Figure size 1200x1200 with 1 Axes>"
            ],
            "image/png": "[encoded data removed]"
          },
          "metadata": {}
        },
        {
          "output_type": "display_data",
          "data": {
            "text/plain": [
              "<Figure size 1200x1200 with 1 Axes>"
            ],
            "image/png": "[encoded data removed]"
          },
          "metadata": {}
        }
      ]
    },
    {
      "cell_type": "code",
      "source": [
        "# preparing data for training"
      ],
      "metadata": {
        "id": "bLAc0Bu6eGCc"
      },
      "execution_count": null,
      "outputs": []
    },
    {
      "cell_type": "code",
      "source": [
        "img_size=48\n",
        "batch_size=64\n",
        "datagen_train = ImageDataGenerator()\n",
        "train_generator = datagen_train.flow_from_directory(\"train/\",\n",
        "                                              target_size = (img_size,img_size),\n",
        "                                              color_mode = \"grayscale\",\n",
        "                                              batch_size = batch_size,\n",
        "                                              class_mode = \"categorical\",\n",
        "                                              shuffle = True)\n",
        "\n",
        "datagen_validation = ImageDataGenerator()\n",
        "validation_generator = datagen_train.flow_from_directory(\"test/\",\n",
        "                                              target_size = (img_size,img_size),\n",
        "                                              color_mode = \"grayscale\",\n",
        "                                              batch_size = batch_size,\n",
        "                                              class_mode = \"categorical\",\n",
        "                                              shuffle = True)"
      ],
      "metadata": {
        "colab": {
          "base_uri": "https://localhost:8080/"
        },
        "id": "HSKvAMf0eGGS",
        "outputId": "1d839f5f-8056-4fb5-8490-e027735e361e"
      },
      "execution_count": 9,
      "outputs": [
        {
          "output_type": "stream",
          "name": "stdout",
          "text": [
            "Found 28709 images belonging to 7 classes.\n",
            "Found 7178 images belonging to 7 classes.\n"
          ]
        }
      ]
    },
    {
      "cell_type": "code",
      "source": [
        "img_size=48\n",
        "batch_size=64\n",
        "datagen_train = ImageDataGenerator()\n",
        "train_generator = datagen_train.flow_from_directory(\"train/\" ,\n",
        "                                              target_size = (img_size,img_size),\n",
        "                                              color_mode = \"grayscale\",\n",
        "                                              batch_size = batch_size,\n",
        "                                              class_mode = \"categorical\",\n",
        "                                              shuffle = True)\n",
        "\n",
        "datagen_validation = ImageDataGenerator()\n",
        "validation_generator = datagen_train.flow_from_directory(\"test/\",\n",
        "                                              target_size = (img_size,img_size),\n",
        "                                              color_mode = \"grayscale\",\n",
        "                                              batch_size = batch_size,\n",
        "                                              class_mode = \"categorical\",\n",
        "                                              shuffle = True)"
      ],
      "metadata": {
        "colab": {
          "base_uri": "https://localhost:8080/",
          "height": 391
        },
        "id": "AqSbaVVVlEfK",
        "outputId": "255fb29c-5fd3-41ea-dba2-f5d376a4cff0"
      },
      "execution_count": null,
      "outputs": [
        {
          "output_type": "error",
          "ename": "FileNotFoundError",
          "evalue": "[Errno 2] No such file or directory: 'train/'",
          "traceback": [
            "\u001b[0;31m---------------------------------------------------------------------------\u001b[0m",
            "\u001b[0;31mFileNotFoundError\u001b[0m                         Traceback (most recent call last)",
            "\u001b[0;32m<ipython-input-13-db40fc28861f>\u001b[0m in \u001b[0;36m<cell line: 4>\u001b[0;34m()\u001b[0m\n\u001b[1;32m      2\u001b[0m \u001b[0mbatch_size\u001b[0m\u001b[0;34m=\u001b[0m\u001b[0;36m64\u001b[0m\u001b[0;34m\u001b[0m\u001b[0;34m\u001b[0m\u001b[0m\n\u001b[1;32m      3\u001b[0m \u001b[0mdatagen_train\u001b[0m \u001b[0;34m=\u001b[0m \u001b[0mImageDataGenerator\u001b[0m\u001b[0;34m(\u001b[0m\u001b[0;34m)\u001b[0m\u001b[0;34m\u001b[0m\u001b[0;34m\u001b[0m\u001b[0m\n\u001b[0;32m----> 4\u001b[0;31m train_generator = datagen_train.flow_from_directory(\"train/\" ,\n\u001b[0m\u001b[1;32m      5\u001b[0m                                               \u001b[0mtarget_size\u001b[0m \u001b[0;34m=\u001b[0m \u001b[0;34m(\u001b[0m\u001b[0mimg_size\u001b[0m\u001b[0;34m,\u001b[0m\u001b[0mimg_size\u001b[0m\u001b[0;34m)\u001b[0m\u001b[0;34m,\u001b[0m\u001b[0;34m\u001b[0m\u001b[0;34m\u001b[0m\u001b[0m\n\u001b[1;32m      6\u001b[0m                                               \u001b[0mcolor_mode\u001b[0m \u001b[0;34m=\u001b[0m \u001b[0;34m\"grayscale\"\u001b[0m\u001b[0;34m,\u001b[0m\u001b[0;34m\u001b[0m\u001b[0;34m\u001b[0m\u001b[0m\n",
            "\u001b[0;32m/usr/local/lib/python3.10/dist-packages/keras/src/preprocessing/image.py\u001b[0m in \u001b[0;36mflow_from_directory\u001b[0;34m(self, directory, target_size, color_mode, classes, class_mode, batch_size, shuffle, seed, save_to_dir, save_prefix, save_format, follow_links, subset, interpolation, keep_aspect_ratio)\u001b[0m\n\u001b[1;32m   1647\u001b[0m             \u001b[0;32mand\u001b[0m\u001b[0;31m \u001b[0m\u001b[0;31m`\u001b[0m\u001b[0my\u001b[0m\u001b[0;31m`\u001b[0m \u001b[0;32mis\u001b[0m \u001b[0ma\u001b[0m \u001b[0mnumpy\u001b[0m \u001b[0marray\u001b[0m \u001b[0mof\u001b[0m \u001b[0mcorresponding\u001b[0m \u001b[0mlabels\u001b[0m\u001b[0;34m.\u001b[0m\u001b[0;34m\u001b[0m\u001b[0;34m\u001b[0m\u001b[0m\n\u001b[1;32m   1648\u001b[0m         \"\"\"\n\u001b[0;32m-> 1649\u001b[0;31m         return DirectoryIterator(\n\u001b[0m\u001b[1;32m   1650\u001b[0m             \u001b[0mdirectory\u001b[0m\u001b[0;34m,\u001b[0m\u001b[0;34m\u001b[0m\u001b[0;34m\u001b[0m\u001b[0m\n\u001b[1;32m   1651\u001b[0m             \u001b[0mself\u001b[0m\u001b[0;34m,\u001b[0m\u001b[0;34m\u001b[0m\u001b[0;34m\u001b[0m\u001b[0m\n",
            "\u001b[0;32m/usr/local/lib/python3.10/dist-packages/keras/src/preprocessing/image.py\u001b[0m in \u001b[0;36m__init__\u001b[0;34m(self, directory, image_data_generator, target_size, color_mode, classes, class_mode, batch_size, shuffle, seed, data_format, save_to_dir, save_prefix, save_format, follow_links, subset, interpolation, keep_aspect_ratio, dtype)\u001b[0m\n\u001b[1;32m    561\u001b[0m         \u001b[0;32mif\u001b[0m \u001b[0;32mnot\u001b[0m \u001b[0mclasses\u001b[0m\u001b[0;34m:\u001b[0m\u001b[0;34m\u001b[0m\u001b[0;34m\u001b[0m\u001b[0m\n\u001b[1;32m    562\u001b[0m             \u001b[0mclasses\u001b[0m \u001b[0;34m=\u001b[0m \u001b[0;34m[\u001b[0m\u001b[0;34m]\u001b[0m\u001b[0;34m\u001b[0m\u001b[0;34m\u001b[0m\u001b[0m\n\u001b[0;32m--> 563\u001b[0;31m             \u001b[0;32mfor\u001b[0m \u001b[0msubdir\u001b[0m \u001b[0;32min\u001b[0m \u001b[0msorted\u001b[0m\u001b[0;34m(\u001b[0m\u001b[0mos\u001b[0m\u001b[0;34m.\u001b[0m\u001b[0mlistdir\u001b[0m\u001b[0;34m(\u001b[0m\u001b[0mdirectory\u001b[0m\u001b[0;34m)\u001b[0m\u001b[0;34m)\u001b[0m\u001b[0;34m:\u001b[0m\u001b[0;34m\u001b[0m\u001b[0;34m\u001b[0m\u001b[0m\n\u001b[0m\u001b[1;32m    564\u001b[0m                 \u001b[0;32mif\u001b[0m \u001b[0mos\u001b[0m\u001b[0;34m.\u001b[0m\u001b[0mpath\u001b[0m\u001b[0;34m.\u001b[0m\u001b[0misdir\u001b[0m\u001b[0;34m(\u001b[0m\u001b[0mos\u001b[0m\u001b[0;34m.\u001b[0m\u001b[0mpath\u001b[0m\u001b[0;34m.\u001b[0m\u001b[0mjoin\u001b[0m\u001b[0;34m(\u001b[0m\u001b[0mdirectory\u001b[0m\u001b[0;34m,\u001b[0m \u001b[0msubdir\u001b[0m\u001b[0;34m)\u001b[0m\u001b[0;34m)\u001b[0m\u001b[0;34m:\u001b[0m\u001b[0;34m\u001b[0m\u001b[0;34m\u001b[0m\u001b[0m\n\u001b[1;32m    565\u001b[0m                     \u001b[0mclasses\u001b[0m\u001b[0;34m.\u001b[0m\u001b[0mappend\u001b[0m\u001b[0;34m(\u001b[0m\u001b[0msubdir\u001b[0m\u001b[0;34m)\u001b[0m\u001b[0;34m\u001b[0m\u001b[0;34m\u001b[0m\u001b[0m\n",
            "\u001b[0;31mFileNotFoundError\u001b[0m: [Errno 2] No such file or directory: 'train/'"
          ]
        }
      ]
    },
    {
      "cell_type": "code",
      "source": [
        "# Defining Model"
      ],
      "metadata": {
        "id": "XeGsG74peGKP"
      },
      "execution_count": null,
      "outputs": []
    },
    {
      "cell_type": "code",
      "source": [
        "def Convolution(input_tensor, filters, kernel_size):\n",
        "  x = Conv2D(filters = filters, kernel_size = kernel_size, padding = \"same\")(input_tensor)\n",
        "  x = BatchNormalization()(x)\n",
        "  x = Activation('relu')(x)\n",
        "  x = MaxPooling2D(pool_size= (2,2))(x)\n",
        "  x = Dropout(0.25)(x)\n",
        "\n",
        "  return x"
      ],
      "metadata": {
        "id": "bZMQh03GeGPr"
      },
      "execution_count": 10,
      "outputs": []
    },
    {
      "cell_type": "code",
      "source": [
        "def Dense_f(input_tensor,  nodes):\n",
        "  x = Dense(nodes)(input_tensor)\n",
        "  x = BatchNormalization()(x)\n",
        "  x = Activation('relu')(x)\n",
        "  x = Dropout(0.25)(x)\n",
        "\n",
        "  return x"
      ],
      "metadata": {
        "id": "2ffA8UXgeGUG"
      },
      "execution_count": 11,
      "outputs": []
    },
    {
      "cell_type": "code",
      "source": [
        "\n",
        "def model_fer(input_shape):\n",
        "  inputs = Input(input_shape)\n",
        "  conv_1 = Convolution(inputs,32,(3,3))\n",
        "  conv_2 = Convolution(inputs,64,(5,5))\n",
        "  conv_3 = Convolution(inputs,128,(3,3))\n",
        "\n",
        "  flatten = Flatten()(conv_3)\n",
        "\n",
        "  dense_1 = Dense_f(flatten,256)\n",
        "\n",
        "  output = Dense(7,activation = \"softmax\")(dense_1)\n",
        "  model = Model(inputs = [inputs], outputs = [output])\n",
        "\n",
        "  model.compile(loss = ['categorical_crossentropy'], optimizer = 'adam', metrics = ['accuracy'])\n",
        "\n",
        "  return model"
      ],
      "metadata": {
        "id": "b6j2gHQteGZV"
      },
      "execution_count": 12,
      "outputs": []
    },
    {
      "cell_type": "code",
      "source": [
        "model = model_fer((48,48,1))\n",
        "model.summary()"
      ],
      "metadata": {
        "colab": {
          "base_uri": "https://localhost:8080/"
        },
        "id": "t8l2pdOkeGge",
        "outputId": "3342acee-55e7-42ba-8fd0-8f309d1b46b0"
      },
      "execution_count": 13,
      "outputs": [
        {
          "output_type": "stream",
          "name": "stdout",
          "text": [
            "Model: \"model\"\n",
            "_________________________________________________________________\n",
            " Layer (type)                Output Shape              Param #   \n",
            "=================================================================\n",
            " input_1 (InputLayer)        [(None, 48, 48, 1)]       0         \n",
            "                                                                 \n",
            " conv2d_2 (Conv2D)           (None, 48, 48, 128)       1280      \n",
            "                                                                 \n",
            " batch_normalization_2 (Bat  (None, 48, 48, 128)       512       \n",
            " chNormalization)                                                \n",
            "                                                                 \n",
            " activation_2 (Activation)   (None, 48, 48, 128)       0         \n",
            "                                                                 \n",
            " max_pooling2d_2 (MaxPoolin  (None, 24, 24, 128)       0         \n",
            " g2D)                                                            \n",
            "                                                                 \n",
            " dropout_2 (Dropout)         (None, 24, 24, 128)       0         \n",
            "                                                                 \n",
            " flatten (Flatten)           (None, 73728)             0         \n",
            "                                                                 \n",
            " dense (Dense)               (None, 256)               18874624  \n",
            "                                                                 \n",
            " batch_normalization_3 (Bat  (None, 256)               1024      \n",
            " chNormalization)                                                \n",
            "                                                                 \n",
            " activation_3 (Activation)   (None, 256)               0         \n",
            "                                                                 \n",
            " dropout_3 (Dropout)         (None, 256)               0         \n",
            "                                                                 \n",
            " dense_1 (Dense)             (None, 7)                 1799      \n",
            "                                                                 \n",
            "=================================================================\n",
            "Total params: 18879239 (72.02 MB)\n",
            "Trainable params: 18878471 (72.02 MB)\n",
            "Non-trainable params: 768 (3.00 KB)\n",
            "_________________________________________________________________\n"
          ]
        }
      ]
    },
    {
      "cell_type": "code",
      "source": [
        "# Initializing the model"
      ],
      "metadata": {
        "id": "UJ_2gU3peGkL"
      },
      "execution_count": null,
      "outputs": []
    },
    {
      "cell_type": "code",
      "source": [
        "epochs = 15\n",
        "steps_per_epoch = train_generator.n//train_generator.batch_size\n",
        "validation_steps = validation_generator.n//validation_generator.batch_size\n",
        "\n",
        "checkpoint = ModelCheckpoint(\"model_weights.h5\", monitor='val_accuracy', save_weights_only= True, mode = 'max', verbose = 1)\n",
        "callbacks = [checkpoint]"
      ],
      "metadata": {
        "id": "Tpcbo7tjeGoJ"
      },
      "execution_count": 14,
      "outputs": []
    },
    {
      "cell_type": "code",
      "source": [
        "# Traninig the Model"
      ],
      "metadata": {
        "id": "I3JwD96QeGux"
      },
      "execution_count": null,
      "outputs": []
    },
    {
      "cell_type": "code",
      "source": [
        "# The next cell takes time to complete"
      ],
      "metadata": {
        "id": "nebncqwmeG1-"
      },
      "execution_count": null,
      "outputs": []
    },
    {
      "cell_type": "code",
      "source": [
        "history = model.fit(\n",
        "x = train_generator,\n",
        "steps_per_epoch = steps_per_epoch,\n",
        "epochs = epochs,\n",
        "validation_data = validation_generator,\n",
        "validation_steps = validation_steps,\n",
        "callbacks = callbacks)"
      ],
      "metadata": {
        "colab": {
          "base_uri": "https://localhost:8080/"
        },
        "id": "ET58I5C5eG6L",
        "outputId": "4c31aeb9-d7bd-4050-ed28-0fff2820a762"
      },
      "execution_count": 15,
      "outputs": [
        {
          "output_type": "stream",
          "name": "stdout",
          "text": [
            "Epoch 1/15\n",
            "448/448 [==============================] - ETA: 0s - loss: 1.6481 - accuracy: 0.3739\n",
            "Epoch 1: saving model to model_weights.h5\n",
            "448/448 [==============================] - 512s 1s/step - loss: 1.6481 - accuracy: 0.3739 - val_loss: 1.9820 - val_accuracy: 0.2613\n",
            "Epoch 2/15\n",
            "448/448 [==============================] - ETA: 0s - loss: 1.3530 - accuracy: 0.4881\n",
            "Epoch 2: saving model to model_weights.h5\n",
            "448/448 [==============================] - 514s 1s/step - loss: 1.3530 - accuracy: 0.4881 - val_loss: 1.5774 - val_accuracy: 0.3917\n",
            "Epoch 3/15\n",
            "448/448 [==============================] - ETA: 0s - loss: 1.1914 - accuracy: 0.5533\n",
            "Epoch 3: saving model to model_weights.h5\n",
            "448/448 [==============================] - 508s 1s/step - loss: 1.1914 - accuracy: 0.5533 - val_loss: 1.6687 - val_accuracy: 0.3528\n",
            "Epoch 4/15\n",
            "448/448 [==============================] - ETA: 0s - loss: 1.0638 - accuracy: 0.6072\n",
            "Epoch 4: saving model to model_weights.h5\n",
            "448/448 [==============================] - 493s 1s/step - loss: 1.0638 - accuracy: 0.6072 - val_loss: 1.4645 - val_accuracy: 0.4519\n",
            "Epoch 5/15\n",
            "448/448 [==============================] - ETA: 0s - loss: 0.9414 - accuracy: 0.6544\n",
            "Epoch 5: saving model to model_weights.h5\n",
            "448/448 [==============================] - 508s 1s/step - loss: 0.9414 - accuracy: 0.6544 - val_loss: 1.4320 - val_accuracy: 0.4775\n",
            "Epoch 6/15\n",
            "448/448 [==============================] - ETA: 0s - loss: 0.8132 - accuracy: 0.7051\n",
            "Epoch 6: saving model to model_weights.h5\n",
            "448/448 [==============================] - 504s 1s/step - loss: 0.8132 - accuracy: 0.7051 - val_loss: 1.7195 - val_accuracy: 0.4181\n",
            "Epoch 7/15\n",
            "448/448 [==============================] - ETA: 0s - loss: 0.7083 - accuracy: 0.7497\n",
            "Epoch 7: saving model to model_weights.h5\n",
            "448/448 [==============================] - 556s 1s/step - loss: 0.7083 - accuracy: 0.7497 - val_loss: 1.7156 - val_accuracy: 0.4573\n",
            "Epoch 8/15\n",
            "448/448 [==============================] - ETA: 0s - loss: 0.6038 - accuracy: 0.7870\n",
            "Epoch 8: saving model to model_weights.h5\n",
            "448/448 [==============================] - 532s 1s/step - loss: 0.6038 - accuracy: 0.7870 - val_loss: 1.5569 - val_accuracy: 0.4900\n",
            "Epoch 9/15\n",
            "448/448 [==============================] - ETA: 0s - loss: 0.5136 - accuracy: 0.8228\n",
            "Epoch 9: saving model to model_weights.h5\n",
            "448/448 [==============================] - 498s 1s/step - loss: 0.5136 - accuracy: 0.8228 - val_loss: 1.7075 - val_accuracy: 0.4667\n",
            "Epoch 10/15\n",
            "448/448 [==============================] - ETA: 0s - loss: 0.4366 - accuracy: 0.8500\n",
            "Epoch 10: saving model to model_weights.h5\n",
            "448/448 [==============================] - 516s 1s/step - loss: 0.4366 - accuracy: 0.8500 - val_loss: 1.5968 - val_accuracy: 0.4944\n",
            "Epoch 11/15\n",
            "448/448 [==============================] - ETA: 0s - loss: 0.3898 - accuracy: 0.8682\n",
            "Epoch 11: saving model to model_weights.h5\n",
            "448/448 [==============================] - 521s 1s/step - loss: 0.3898 - accuracy: 0.8682 - val_loss: 1.9556 - val_accuracy: 0.4757\n",
            "Epoch 12/15\n",
            "448/448 [==============================] - ETA: 0s - loss: 0.3426 - accuracy: 0.8851\n",
            "Epoch 12: saving model to model_weights.h5\n",
            "448/448 [==============================] - 524s 1s/step - loss: 0.3426 - accuracy: 0.8851 - val_loss: 1.8853 - val_accuracy: 0.4778\n",
            "Epoch 13/15\n",
            "448/448 [==============================] - ETA: 0s - loss: 0.3033 - accuracy: 0.8990\n",
            "Epoch 13: saving model to model_weights.h5\n",
            "448/448 [==============================] - 522s 1s/step - loss: 0.3033 - accuracy: 0.8990 - val_loss: 1.8131 - val_accuracy: 0.4919\n",
            "Epoch 14/15\n",
            "448/448 [==============================] - ETA: 0s - loss: 0.2775 - accuracy: 0.9073\n",
            "Epoch 14: saving model to model_weights.h5\n",
            "448/448 [==============================] - 521s 1s/step - loss: 0.2775 - accuracy: 0.9073 - val_loss: 1.9444 - val_accuracy: 0.4810\n",
            "Epoch 15/15\n",
            "448/448 [==============================] - ETA: 0s - loss: 0.2513 - accuracy: 0.9167\n",
            "Epoch 15: saving model to model_weights.h5\n",
            "448/448 [==============================] - 518s 1s/step - loss: 0.2513 - accuracy: 0.9167 - val_loss: 1.9461 - val_accuracy: 0.4969\n"
          ]
        }
      ]
    },
    {
      "cell_type": "code",
      "source": [
        "model.save('model_weight.h5')"
      ],
      "metadata": {
        "id": "gW_Yj4V0U2TC",
        "colab": {
          "base_uri": "https://localhost:8080/"
        },
        "outputId": "27e73f78-df5a-447f-949c-7108abe1cf4a"
      },
      "execution_count": 16,
      "outputs": [
        {
          "output_type": "stream",
          "name": "stderr",
          "text": [
            "/usr/local/lib/python3.10/dist-packages/keras/src/engine/training.py:3103: UserWarning: You are saving your model as an HDF5 file via `model.save()`. This file format is considered legacy. We recommend using instead the native Keras format, e.g. `model.save('my_model.keras')`.\n",
            "  saving_api.save_model(\n"
          ]
        }
      ]
    },
    {
      "cell_type": "code",
      "source": [
        "# Model Evaluation"
      ],
      "metadata": {
        "id": "y5B_Zpw6f3Bv"
      },
      "execution_count": null,
      "outputs": []
    },
    {
      "cell_type": "code",
      "source": [
        "model.evaluate(validation_generator)"
      ],
      "metadata": {
        "id": "7bfyInV1f3Fl",
        "colab": {
          "base_uri": "https://localhost:8080/"
        },
        "outputId": "d5eba1e9-8c5c-4cba-fd58-87794a0b944f"
      },
      "execution_count": 17,
      "outputs": [
        {
          "output_type": "stream",
          "name": "stdout",
          "text": [
            "113/113 [==============================] - 27s 238ms/step - loss: 1.9455 - accuracy: 0.4971\n"
          ]
        },
        {
          "output_type": "execute_result",
          "data": {
            "text/plain": [
              "[1.945512056350708, 0.4970743954181671]"
            ]
          },
          "metadata": {},
          "execution_count": 17
        }
      ]
    },
    {
      "cell_type": "code",
      "source": [
        "# plotting Loss"
      ],
      "metadata": {
        "id": "ZMDVxirIf3fp"
      },
      "execution_count": null,
      "outputs": []
    },
    {
      "cell_type": "code",
      "source": [
        "plt.plot(history.history['loss'])\n",
        "plt.plot(history.history['val_loss'])\n",
        "plt.title('Model Loss')\n",
        "plt.legend(['Train','Validation'],loc = 'upper left')\n",
        "plt.subplots_adjust(top=1.0,bottom=0.0,right=0.95,left=0.0,hspace=0.25,wspace=0.35)"
      ],
      "metadata": {
        "id": "yrAeEp5sf3jG",
        "colab": {
          "base_uri": "https://localhost:8080/",
          "height": 563
        },
        "outputId": "d92be522-cd41-4414-b4fa-a8cd2a68a6dc"
      },
      "execution_count": 18,
      "outputs": [
        {
          "output_type": "display_data",
          "data": {
            "text/plain": [
              "<Figure size 640x480 with 1 Axes>"
            ],
            "image/png": "[encoded data removed]"
          },
          "metadata": {}
        }
      ]
    },
    {
      "cell_type": "code",
      "source": [
        "plt.plot(history.history['accuracy'])\n",
        "plt.plot(history.history['val_accuracy'])\n",
        "plt.title('Model Accuracy')\n",
        "plt.legend(['Train','Validation'],loc = 'upper left')\n",
        "plt.subplots_adjust(top=1.0,bottom=0.0,right=0.95,left=0.0,hspace=0.25,wspace=0.35)"
      ],
      "metadata": {
        "id": "KjKllRbUf3m7",
        "colab": {
          "base_uri": "https://localhost:8080/",
          "height": 563
        },
        "outputId": "5a078361-a1ea-4d25-8b98-cf4ede2cbad7"
      },
      "execution_count": 19,
      "outputs": [
        {
          "output_type": "display_data",
          "data": {
            "text/plain": [
              "<Figure size 640x480 with 1 Axes>"
            ],
            "image/png": "[encoded data removed]"
          },
          "metadata": {}
        }
      ]
    },
    {
      "cell_type": "code",
      "source": [
        "# Saving Model"
      ],
      "metadata": {
        "id": "BttovGqkf3rA"
      },
      "execution_count": null,
      "outputs": []
    },
    {
      "cell_type": "code",
      "source": [
        "model_json=model.to_json()\n",
        "with open(\"model_a.json\",\"w\") as json_file:\n",
        "  json_file.write(model_json)"
      ],
      "metadata": {
        "id": "FX6CrSqQf3u7"
      },
      "execution_count": 20,
      "outputs": []
    },
    {
      "cell_type": "code",
      "source": [],
      "metadata": {
        "id": "i0CJk0faf3yp"
      },
      "execution_count": null,
      "outputs": []
    },
    {
      "cell_type": "code",
      "source": [],
      "metadata": {
        "id": "jm-tGYSnf32s"
      },
      "execution_count": null,
      "outputs": []
    },
    {
      "cell_type": "code",
      "source": [],
      "metadata": {
        "id": "kEHfMaTzf36L"
      },
      "execution_count": null,
      "outputs": []
    },
    {
      "cell_type": "code",
      "source": [],
      "metadata": {
        "id": "AzRAFkqOf3-r"
      },
      "execution_count": null,
      "outputs": []
    }
  ]
}